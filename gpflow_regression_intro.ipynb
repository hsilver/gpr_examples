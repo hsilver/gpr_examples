{
 "cells": [
  {
   "cell_type": "markdown",
   "metadata": {},
   "source": [
    "# Basic (Gaussian likelihood) GP Regression model\n",
    "\n",
    "\n",
    "The aim of this notebook is to show the different steps for creating and using a standard GP regression model:\n",
    "  - reading and formatting data\n",
    "  - choosing a kernel function\n",
    "  - choosing a mean function\n",
    "  - creating the model\n",
    "  - viewing, getting and setting model parameters\n",
    "  - optimising the model parameters\n",
    "  - making predictions\n",
    "  \n",
    "We focus here on the implementation of the models in GPflow, and refer the reader to [A Practical Guide to Gaussian Processes](https://drafts.distill.pub/gp/) for getting more intuition on these models.\n",
    "\n",
    "Hamish Silverwood: This workbook has been altered to include heteroskedastic uncertainties on the input data $\\texttt{y}$, e.g. different uncertainties on each data point.\n",
    " "
   ]
  },
  {
   "cell_type": "code",
   "execution_count": 2,
   "metadata": {
    "ExecuteTime": {
     "end_time": "2018-06-19T08:59:50.141046Z",
     "start_time": "2018-06-19T08:59:49.132677Z"
    }
   },
   "outputs": [],
   "source": [
    "import gpflow\n",
    "import numpy as np\n",
    "import matplotlib\n",
    "\n",
    "# The lines below are specific to the notebook format\n",
    "%matplotlib inline\n",
    "matplotlib.rcParams['figure.figsize'] = (12, 6)\n",
    "plt = matplotlib.pyplot"
   ]
  },
  {
   "cell_type": "markdown",
   "metadata": {},
   "source": [
    "We denote by X and Y the input and output values. Note that `X` and `Y` must be two-dimensional numpy arrays, $N \\times 1$ or $N \\times D$, where $D$ is the number of input dimensions/features, with the same number of rows $N$ (one per data-point):"
   ]
  },
  {
   "cell_type": "code",
   "execution_count": 3,
   "metadata": {},
   "outputs": [
    {
     "data": {
      "text/plain": [
       "<ErrorbarContainer object of 3 artists>"
      ]
     },
     "execution_count": 3,
     "metadata": {},
     "output_type": "execute_result"
    },
    {
     "data": {
      "image/png": "[encoded data removed]",
      "text/plain": [
       "<Figure size 432x288 with 1 Axes>"
      ]
     },
     "metadata": {
      "needs_background": "light"
     },
     "output_type": "display_data"
    }
   ],
   "source": [
    "# data = np.genfromtxt('data/regression_1D.csv', delimiter=',')\n",
    "# X = data[:, 0].reshape(-1, 1)\n",
    "# Y = data[:, 1].reshape(-1, 1)\n",
    "\n",
    "#HS: the workbook didn't come with the data file, so I made some random data\n",
    "X = np.sort(np.random.uniform(0,1,size=50))\n",
    "Y = np.sin(X*10) #+ np.exp(X/5)\n",
    "\n",
    "#HS: add a sigma noise term\n",
    "sigma_n_Y = 0.8*np.random.random(len(Y))\n",
    "plt.errorbar(X, Y,yerr=sigma_n_Y)"
   ]
  },
  {
   "cell_type": "code",
   "execution_count": 4,
   "metadata": {},
   "outputs": [],
   "source": [
    "X=X.reshape(-1,1)\n",
    "Y=Y.reshape(-1,1)"
   ]
  },
  {
   "cell_type": "markdown",
   "metadata": {},
   "source": [
    "We will consider the following probabilistic model:\n",
    "$$ Y_i = f(X_i) + \\varepsilon_i , $$\n",
    "where $f \\sim \\mathcal{GP}(\\mu(.), k(., .'))$, and $\\varepsilon \\sim \\mathcal{N}(0, \\tau^2 I)$."
   ]
  },
  {
   "cell_type": "markdown",
   "metadata": {},
   "source": [
    "Kernel \n",
    "--\n",
    "\n",
    "Several kernels (i.e. covariance functions) are implemented in GPflow, and they can easily be combined to create new ones (see [advanced kernel notebook](../advanced/kernels.ipynb)). Implementing new covariance functions is also possible, as illustrated in the [kernel design notebook](../tailor/kernel_design.ipynb). Here, we will use a simple one:"
   ]
  },
  {
   "cell_type": "code",
   "execution_count": 5,
   "metadata": {},
   "outputs": [],
   "source": [
    "k = gpflow.kernels.Matern52(input_dim=1)\n",
    "#k = gpflow.kernels.RBF(input_dim=1)"
   ]
  },
  {
   "cell_type": "markdown",
   "metadata": {},
   "source": [
    "The `input_dim` parameter is the dimension of the input space. It typically corresponds to the number of columns in `X`  (see the [advanced kernel notebook](../advanced/kernels.ipynb) for kernels defined on subspaces). A summary of the kernel can be obtained, either by `print(k)` (plain text) or"
   ]
  },
  {
   "cell_type": "code",
   "execution_count": 6,
   "metadata": {},
   "outputs": [
    {
     "data": {
      "text/html": [
       "<div>\n",
       "<style scoped>\n",
       "    .dataframe tbody tr th:only-of-type {\n",
       "        vertical-align: middle;\n",
       "    }\n",
       "\n",
       "    .dataframe tbody tr th {\n",
       "        vertical-align: top;\n",
       "    }\n",
       "\n",
       "    .dataframe thead th {\n",
       "        text-align: right;\n",
       "    }\n",
       "</style>\n",
       "<table border=\"1\" class=\"dataframe\">\n",
       "  <thead>\n",
       "    <tr style=\"text-align: right;\">\n",
       "      <th></th>\n",
       "      <th>class</th>\n",
       "      <th>prior</th>\n",
       "      <th>transform</th>\n",
       "      <th>trainable</th>\n",
       "      <th>shape</th>\n",
       "      <th>fixed_shape</th>\n",
       "      <th>value</th>\n",
       "    </tr>\n",
       "  </thead>\n",
       "  <tbody>\n",
       "    <tr>\n",
       "      <th>Matern52/lengthscales</th>\n",
       "      <td>Parameter</td>\n",
       "      <td>None</td>\n",
       "      <td>+ve</td>\n",
       "      <td>True</td>\n",
       "      <td>()</td>\n",
       "      <td>True</td>\n",
       "      <td>1.0</td>\n",
       "    </tr>\n",
       "    <tr>\n",
       "      <th>Matern52/variance</th>\n",
       "      <td>Parameter</td>\n",
       "      <td>None</td>\n",
       "      <td>+ve</td>\n",
       "      <td>True</td>\n",
       "      <td>()</td>\n",
       "      <td>True</td>\n",
       "      <td>1.0</td>\n",
       "    </tr>\n",
       "  </tbody>\n",
       "</table>\n",
       "</div>"
      ],
      "text/plain": [
       "                           class prior transform  trainable shape  \\\n",
       "Matern52/lengthscales  Parameter  None       +ve       True    ()   \n",
       "Matern52/variance      Parameter  None       +ve       True    ()   \n",
       "\n",
       "                       fixed_shape value  \n",
       "Matern52/lengthscales         True   1.0  \n",
       "Matern52/variance             True   1.0  "
      ]
     },
     "execution_count": 6,
     "metadata": {},
     "output_type": "execute_result"
    }
   ],
   "source": [
    "k.as_pandas_table()"
   ]
  },
  {
   "cell_type": "markdown",
   "metadata": {},
   "source": [
    "The Matern 5/2 kernel has two parameters: `lengthscales` encoding the \"wiggliness\" of the GP, and `variance` which tunes the amplitude. They are both set to 1.0 as the default value.  More details on the meaning of the other columns can be found in the [advanced kernel notebook](../advanced/kernels.ipynb)."
   ]
  },
  {
   "cell_type": "markdown",
   "metadata": {},
   "source": [
    "Mean function (optional)\n",
    "--\n",
    "It is common to choose $\\mu = 0$, which is the GPflow default. \n",
    "\n",
    "If there is a clear pattern (such as a mean value of `Y` that is far away from 0, or a linear trend in the data), mean functions can however be beneficial. Some simple ones are provided in the `gpflow.mean_functions` module. Here's how to define a linear mean function: ` meanf = gpflow.mean_functions.Linear()`."
   ]
  },
  {
   "cell_type": "code",
   "execution_count": 7,
   "metadata": {},
   "outputs": [],
   "source": [
    "meanf = gpflow.mean_functions.Linear()"
   ]
  },
  {
   "cell_type": "markdown",
   "metadata": {},
   "source": [
    "Model construction\n",
    "--\n",
    "\n",
    "A GPflow model is created by instantiating one of the GPflow model classes, in this case GPR. We'll make a kernel `k` and instantiate a GPR object using the generated data and the kernel. We'll set the variance of the likelihood to a sensible initial guess, too. \n",
    "\n",
    "HS: This next bit of code is how to add in observational errors."
   ]
  },
  {
   "cell_type": "code",
   "execution_count": 8,
   "metadata": {},
   "outputs": [
    {
     "name": "stderr",
     "output_type": "stream",
     "text": [
      "WARNING:gpflow.logdensities:Shape of x must be 2D at computation.\n"
     ]
    }
   ],
   "source": [
    "#HS: This is where the uncertainties need to be entered. \n",
    "with gpflow.defer_build():\n",
    "    sigma_n = sigma_n_Y #f_i error bars\n",
    "    likelihood = gpflow.likelihoods.Gaussian(sigma_n[:,None]**2)\n",
    "    likelihood.variance.set_trainable(False)\n",
    "    m = gpflow.models.GPR(X, Y, kern=k, mean_function=meanf)\n",
    "    m.likelihood = likelihood\n",
    "    m.compile()"
   ]
  },
  {
   "cell_type": "markdown",
   "metadata": {},
   "source": [
    "A summary of the model can be obtained, either by `print(m)` (plain text) or "
   ]
  },
  {
   "cell_type": "code",
   "execution_count": 9,
   "metadata": {},
   "outputs": [
    {
     "data": {
      "text/html": [
       "<div>\n",
       "<style scoped>\n",
       "    .dataframe tbody tr th:only-of-type {\n",
       "        vertical-align: middle;\n",
       "    }\n",
       "\n",
       "    .dataframe tbody tr th {\n",
       "        vertical-align: top;\n",
       "    }\n",
       "\n",
       "    .dataframe thead th {\n",
       "        text-align: right;\n",
       "    }\n",
       "</style>\n",
       "<table border=\"1\" class=\"dataframe\">\n",
       "  <thead>\n",
       "    <tr style=\"text-align: right;\">\n",
       "      <th></th>\n",
       "      <th>class</th>\n",
       "      <th>prior</th>\n",
       "      <th>transform</th>\n",
       "      <th>trainable</th>\n",
       "      <th>shape</th>\n",
       "      <th>fixed_shape</th>\n",
       "      <th>value</th>\n",
       "    </tr>\n",
       "  </thead>\n",
       "  <tbody>\n",
       "    <tr>\n",
       "      <th>GPR/kern/lengthscales</th>\n",
       "      <td>Parameter</td>\n",
       "      <td>None</td>\n",
       "      <td>+ve</td>\n",
       "      <td>True</td>\n",
       "      <td>()</td>\n",
       "      <td>True</td>\n",
       "      <td>1.0</td>\n",
       "    </tr>\n",
       "    <tr>\n",
       "      <th>GPR/kern/variance</th>\n",
       "      <td>Parameter</td>\n",
       "      <td>None</td>\n",
       "      <td>+ve</td>\n",
       "      <td>True</td>\n",
       "      <td>()</td>\n",
       "      <td>True</td>\n",
       "      <td>1.0</td>\n",
       "    </tr>\n",
       "    <tr>\n",
       "      <th>GPR/likelihood/variance</th>\n",
       "      <td>Parameter</td>\n",
       "      <td>None</td>\n",
       "      <td>+ve</td>\n",
       "      <td>False</td>\n",
       "      <td>(50, 1)</td>\n",
       "      <td>True</td>\n",
       "      <td>[[0.4706205192416573], [0.0012087115854029972]...</td>\n",
       "    </tr>\n",
       "    <tr>\n",
       "      <th>GPR/mean_function/A</th>\n",
       "      <td>Parameter</td>\n",
       "      <td>None</td>\n",
       "      <td>(none)</td>\n",
       "      <td>True</td>\n",
       "      <td>(1, 1)</td>\n",
       "      <td>True</td>\n",
       "      <td>[[1.0]]</td>\n",
       "    </tr>\n",
       "    <tr>\n",
       "      <th>GPR/mean_function/b</th>\n",
       "      <td>Parameter</td>\n",
       "      <td>None</td>\n",
       "      <td>(none)</td>\n",
       "      <td>True</td>\n",
       "      <td>(1,)</td>\n",
       "      <td>True</td>\n",
       "      <td>[0.0]</td>\n",
       "    </tr>\n",
       "  </tbody>\n",
       "</table>\n",
       "</div>"
      ],
      "text/plain": [
       "                             class prior transform  trainable    shape  \\\n",
       "GPR/kern/lengthscales    Parameter  None       +ve       True       ()   \n",
       "GPR/kern/variance        Parameter  None       +ve       True       ()   \n",
       "GPR/likelihood/variance  Parameter  None       +ve      False  (50, 1)   \n",
       "GPR/mean_function/A      Parameter  None    (none)       True   (1, 1)   \n",
       "GPR/mean_function/b      Parameter  None    (none)       True     (1,)   \n",
       "\n",
       "                         fixed_shape  \\\n",
       "GPR/kern/lengthscales           True   \n",
       "GPR/kern/variance               True   \n",
       "GPR/likelihood/variance         True   \n",
       "GPR/mean_function/A             True   \n",
       "GPR/mean_function/b             True   \n",
       "\n",
       "                                                                     value  \n",
       "GPR/kern/lengthscales                                                  1.0  \n",
       "GPR/kern/variance                                                      1.0  \n",
       "GPR/likelihood/variance  [[0.4706205192416573], [0.0012087115854029972]...  \n",
       "GPR/mean_function/A                                                [[1.0]]  \n",
       "GPR/mean_function/b                                                  [0.0]  "
      ]
     },
     "execution_count": 9,
     "metadata": {},
     "output_type": "execute_result"
    }
   ],
   "source": [
    "m.as_pandas_table()"
   ]
  },
  {
   "cell_type": "markdown",
   "metadata": {},
   "source": [
    "The first two lines correspond to the kernel parameters, and the third one gives the likelihood parameter (the noise variance $\\tau^2$ in our model).\n",
    "\n",
    "Those values can be accessed and set manually to sensible initial guesses, for instance:\n"
   ]
  },
  {
   "cell_type": "markdown",
   "metadata": {},
   "source": [
    "Optimisation of the model parameters\n",
    "--\n",
    "\n",
    "In order to obtain meaningful predictions, we need to tune the model parameters (i.e. parameters of the kernel, likelihood and mean function if applicable) to the data at hand. \n",
    "\n",
    "There are several optimisers available in GPflow. Here we use the ScipyOptimizer which implements by default the L-BFGS-B algorithm (others can be selected using the `method=` keyword argument to `ScipyOptimizer`, for options see [the Scipy documentation](https://docs.scipy.org/doc/scipy/reference/generated/scipy.optimize.minimize.html))."
   ]
  },
  {
   "cell_type": "code",
   "execution_count": 10,
   "metadata": {},
   "outputs": [
    {
     "name": "stdout",
     "output_type": "stream",
     "text": [
      "INFO:tensorflow:Optimization terminated with:\n",
      "  Message: b'CONVERGENCE: NORM_OF_PROJECTED_GRADIENT_<=_PGTOL'\n",
      "  Objective function value: 15.521986\n",
      "  Number of iterations: 21\n",
      "  Number of functions evaluations: 23\n"
     ]
    },
    {
     "name": "stderr",
     "output_type": "stream",
     "text": [
      "INFO:tensorflow:Optimization terminated with:\n",
      "  Message: b'CONVERGENCE: NORM_OF_PROJECTED_GRADIENT_<=_PGTOL'\n",
      "  Objective function value: 15.521986\n",
      "  Number of iterations: 21\n",
      "  Number of functions evaluations: 23\n"
     ]
    },
    {
     "data": {
      "text/html": [
       "<div>\n",
       "<style scoped>\n",
       "    .dataframe tbody tr th:only-of-type {\n",
       "        vertical-align: middle;\n",
       "    }\n",
       "\n",
       "    .dataframe tbody tr th {\n",
       "        vertical-align: top;\n",
       "    }\n",
       "\n",
       "    .dataframe thead th {\n",
       "        text-align: right;\n",
       "    }\n",
       "</style>\n",
       "<table border=\"1\" class=\"dataframe\">\n",
       "  <thead>\n",
       "    <tr style=\"text-align: right;\">\n",
       "      <th></th>\n",
       "      <th>class</th>\n",
       "      <th>prior</th>\n",
       "      <th>transform</th>\n",
       "      <th>trainable</th>\n",
       "      <th>shape</th>\n",
       "      <th>fixed_shape</th>\n",
       "      <th>value</th>\n",
       "    </tr>\n",
       "  </thead>\n",
       "  <tbody>\n",
       "    <tr>\n",
       "      <th>GPR/kern/lengthscales</th>\n",
       "      <td>Parameter</td>\n",
       "      <td>None</td>\n",
       "      <td>+ve</td>\n",
       "      <td>True</td>\n",
       "      <td>()</td>\n",
       "      <td>True</td>\n",
       "      <td>0.18988346698003838</td>\n",
       "    </tr>\n",
       "    <tr>\n",
       "      <th>GPR/kern/variance</th>\n",
       "      <td>Parameter</td>\n",
       "      <td>None</td>\n",
       "      <td>+ve</td>\n",
       "      <td>True</td>\n",
       "      <td>()</td>\n",
       "      <td>True</td>\n",
       "      <td>0.604934903850931</td>\n",
       "    </tr>\n",
       "    <tr>\n",
       "      <th>GPR/likelihood/variance</th>\n",
       "      <td>Parameter</td>\n",
       "      <td>None</td>\n",
       "      <td>+ve</td>\n",
       "      <td>False</td>\n",
       "      <td>(50, 1)</td>\n",
       "      <td>True</td>\n",
       "      <td>[[0.4706205192416573], [0.0012087115854029972]...</td>\n",
       "    </tr>\n",
       "    <tr>\n",
       "      <th>GPR/mean_function/A</th>\n",
       "      <td>Parameter</td>\n",
       "      <td>None</td>\n",
       "      <td>(none)</td>\n",
       "      <td>True</td>\n",
       "      <td>(1, 1)</td>\n",
       "      <td>True</td>\n",
       "      <td>[[-0.4032723784110097]]</td>\n",
       "    </tr>\n",
       "    <tr>\n",
       "      <th>GPR/mean_function/b</th>\n",
       "      <td>Parameter</td>\n",
       "      <td>None</td>\n",
       "      <td>(none)</td>\n",
       "      <td>True</td>\n",
       "      <td>(1,)</td>\n",
       "      <td>True</td>\n",
       "      <td>[0.25872487055866167]</td>\n",
       "    </tr>\n",
       "  </tbody>\n",
       "</table>\n",
       "</div>"
      ],
      "text/plain": [
       "                             class prior transform  trainable    shape  \\\n",
       "GPR/kern/lengthscales    Parameter  None       +ve       True       ()   \n",
       "GPR/kern/variance        Parameter  None       +ve       True       ()   \n",
       "GPR/likelihood/variance  Parameter  None       +ve      False  (50, 1)   \n",
       "GPR/mean_function/A      Parameter  None    (none)       True   (1, 1)   \n",
       "GPR/mean_function/b      Parameter  None    (none)       True     (1,)   \n",
       "\n",
       "                         fixed_shape  \\\n",
       "GPR/kern/lengthscales           True   \n",
       "GPR/kern/variance               True   \n",
       "GPR/likelihood/variance         True   \n",
       "GPR/mean_function/A             True   \n",
       "GPR/mean_function/b             True   \n",
       "\n",
       "                                                                     value  \n",
       "GPR/kern/lengthscales                                  0.18988346698003838  \n",
       "GPR/kern/variance                                        0.604934903850931  \n",
       "GPR/likelihood/variance  [[0.4706205192416573], [0.0012087115854029972]...  \n",
       "GPR/mean_function/A                                [[-0.4032723784110097]]  \n",
       "GPR/mean_function/b                                  [0.25872487055866167]  "
      ]
     },
     "execution_count": 10,
     "metadata": {},
     "output_type": "execute_result"
    }
   ],
   "source": [
    "opt = gpflow.train.ScipyOptimizer()\n",
    "opt.minimize(m)\n",
    "m.as_pandas_table()"
   ]
  },
  {
   "cell_type": "markdown",
   "metadata": {},
   "source": [
    "Notice how the value column has changed.\n",
    "\n",
    "The local optimum found by Maximum Likelihood may not be the one you want, e.g. it may be overfitting or be oversmooth. This depends on the initial values of hyperparameters and is specific to each data set. As an alternative to Maximum Likelihood, MCMC is also available as shown in the [MCMC notebook](../advanced/mcmc.ipynb).\n",
    "\n",
    "### Prediction\n",
    "\n",
    "We can now use the model to make some predictions at new locations `Xnew`. One may be interested in predicting two different quantities: the latent function values `f(Xnew)` (the denoised signal), or the values of new observations `y(Xnew)` (signal + noise). Since we are dealing with Gaussian probabilistic models, the predictions typically output a mean and variance. Alternatively, one can obtain samples of `f(Xnew)` or log-density of new data points `(Xnew, Ynew)`.\n",
    "\n",
    "GPflow models have several prediction methods:"
   ]
  },
  {
   "cell_type": "markdown",
   "metadata": {},
   "source": [
    " - `m.predict_f` returns the mean and variance of $f$ at the points `Xnew`. \n",
    "\n",
    " - `m.predict_f_full_cov` additionally returns the full covariance matrix of $f$ at the points `Xnew`.\n",
    "\n",
    " - `m.predict_f_samples` returns samples of the latent function.\n",
    "\n",
    " - `m.predict_y` returns the mean and variance of a new data point (i.e. includes the noise variance).\n",
    "\n",
    " - `m.predict_density` returns the log-density of the observations `Ynew` at `Xnew`.\n",
    " \n",
    "We use `predict_f` and `predict_f_samples` to plot 95% confidence intervals and samples from the posterior distribution. "
   ]
  },
  {
   "cell_type": "code",
   "execution_count": 11,
   "metadata": {
    "ExecuteTime": {
     "end_time": "2018-06-19T08:59:50.640000Z",
     "start_time": "2018-06-19T08:59:50.404378Z"
    }
   },
   "outputs": [
    {
     "data": {
      "image/png": "[encoded data removed]",
      "text/plain": [
       "<Figure size 864x432 with 1 Axes>"
      ]
     },
     "metadata": {
      "needs_background": "light"
     },
     "output_type": "display_data"
    }
   ],
   "source": [
    "## generate test points for prediction\n",
    "xx = np.linspace(-0.1, 1.1, 100).reshape(100, 1)  # test points must be of shape (N, D)\n",
    "\n",
    "## predict mean and variance of latent GP at test points\n",
    "mean, var = m.predict_f(xx)\n",
    "\n",
    "## generate 10 samples from posterior\n",
    "#samples = m.predict_f_samples(xx, 10)  # shape (10, 100, 1)\n",
    "\n",
    "## plot \n",
    "plt.figure(figsize=(12, 6))\n",
    "plt.errorbar(X, Y, yerr=sigma_n_Y)\n",
    "plt.plot(xx, mean, 'C0', lw=2)\n",
    "plt.fill_between(xx[:,0],\n",
    "                 mean[:,0] - 1.96 * np.sqrt(var[:,0]),\n",
    "                 mean[:,0] + 1.96 * np.sqrt(var[:,0]),\n",
    "                 color='C0', alpha=0.2)\n",
    "\n",
    "#plt.plot(xx, samples[:, :, 0].T, 'C0', linewidth=.5)\n",
    "plt.xlim(-0.1, 1.1);\n"
   ]
  },
  {
   "cell_type": "markdown",
   "metadata": {},
   "source": [
    "GP regression in higher dimension\n",
    "--\n",
    "\n",
    "Very little changes when the input space has more than one dimension. `X` is a numpy array with one column per dimension. The kernel may be set with `input_dim` equal to the number of columns of `X`, and setting the parameter `ARD=True` allows tuning a different lengthscale per dimension, which is generally recommended."
   ]
  },
  {
   "cell_type": "markdown",
   "metadata": {},
   "source": [
    "HS: I have a rough 2D example which I'll add to this workbook tomorrow."
   ]
  },
  {
   "cell_type": "markdown",
   "metadata": {},
   "source": [
    "Further reading\n",
    "--\n",
    "\n",
    "Several notebooks are available to go into more details:\n",
    "\n",
    "  - [Sparse GP regression for big data](../advanced/gps_for_big_data.ipynb) when there is a large number of observations,\n",
    "  - [ordinal regression](../advanced/ordinal_regression.ipynb) if the data is ordinal,\n",
    "  - [multi-outputs and coregionalisation](../advanced/coregionalisation.ipynb) if `Y` is multidimensional."
   ]
  },
  {
   "cell_type": "code",
   "execution_count": null,
   "metadata": {},
   "outputs": [],
   "source": []
  }
 ],
 "metadata": {
  "anaconda-cloud": {},
  "kernelspec": {
   "display_name": "Python 3",
   "language": "python",
   "name": "python3"
  },
  "language_info": {
   "codemirror_mode": {
    "name": "ipython",
    "version": 3
   },
   "file_extension": ".py",
   "mimetype": "text/x-python",
   "name": "python",
   "nbconvert_exporter": "python",
   "pygments_lexer": "ipython3",
   "version": "3.6.8"
  }
 },
 "nbformat": 4,
 "nbformat_minor": 2
}
