{
 "cells": [
  {
   "cell_type": "markdown",
   "metadata": {},
   "source": [
    "# GPyTorch Regression Tutorial\n",
    "\n",
    "## Introduction\n",
    "\n",
    "In this notebook, we demonstrate many of the design features of GPyTorch using the simplest example, training an RBF kernel Gaussian process on a simple function. We'll be modeling the function\n",
    "\n",
    "\\begin{align*}\n",
    "  y &= \\sin(2\\pi x) + \\epsilon \\\\\n",
    "  \\epsilon &\\sim \\mathcal{N}(0, 0.2)\n",
    "\\end{align*}\n",
    "\n",
    "with 11 training examples, and testing on 51 test examples.\n",
    "\n",
    "**Note:** this notebook is not necessarily intended to teach the mathematical background of Gaussian processes, but rather how to train a simple one and make predictions in GPyTorch. For a mathematical treatment, Chapter 2 of Gaussian Processes for Machine Learning provides a very thorough introduction to GP regression (this entire text is highly recommended): http://www.gaussianprocess.org/gpml/chapters/RW2.pdf\n",
    "\n",
    "Hamish Silverwood: This workbook has been altered to include heteroskedastic uncertainties on the input data $\\texttt{y}$, e.g. different uncertainties on each data point."
   ]
  },
  {
   "cell_type": "code",
   "execution_count": 1,
   "metadata": {},
   "outputs": [],
   "source": [
    "import math\n",
    "import torch\n",
    "import gpytorch\n",
    "from matplotlib import pyplot as plt\n",
    "import numpy as np\n",
    "import pdb\n",
    "\n",
    "from gpytorch.kernels import ScaleKernel, RBFKernel, WhiteNoiseKernel\n",
    "\n",
    "%matplotlib inline\n",
    "%load_ext autoreload\n",
    "%autoreload 2"
   ]
  },
  {
   "cell_type": "markdown",
   "metadata": {},
   "source": [
    "### Set up training data\n",
    "\n",
    "In the next cell, we set up the training data for this example. We'll be using 11 regularly spaced points on [0,1] which we evaluate the function on and add Gaussian noise to get the training labels."
   ]
  },
  {
   "cell_type": "code",
   "execution_count": 12,
   "metadata": {
    "collapsed": true
   },
   "outputs": [],
   "source": [
    "# Training data is 11 points in [0,1] inclusive regularly spaced\n",
    "train_x = torch.linspace(0, 1, 100)\n",
    "# True function is sin(2*pi*x) with Gaussian noise\n",
    "train_y = torch.sin(train_x * (2 * math.pi)) + torch.randn(train_x.size()) * 0.2"
   ]
  },
  {
   "cell_type": "code",
   "execution_count": 13,
   "metadata": {},
   "outputs": [
    {
     "data": {
      "text/plain": [
       "tensor([4.5815e+00, 1.0787e+00, 9.8523e-02, 2.0067e+00, 1.2743e+00, 2.6450e-02,\n",
       "        3.9872e+00, 2.2760e+00, 6.6324e-01, 2.7845e-01, 2.3576e-01, 3.9837e+00,\n",
       "        3.6391e-01, 2.6486e-02, 1.2417e+00, 4.8104e-02, 3.2023e-02, 2.0859e+00,\n",
       "        1.2628e+00, 4.2379e-01, 3.1976e-01, 1.7241e-01, 6.3331e-01, 2.7490e-01,\n",
       "        3.6743e-01, 7.1329e-01, 3.6822e+00, 1.0548e-01, 1.8135e+00, 7.9158e-01,\n",
       "        6.1789e-03, 7.9064e-03, 2.0543e+00, 1.2286e-01, 1.4512e+00, 3.5486e+00,\n",
       "        9.2259e-06, 3.5193e-01, 4.3188e-01, 2.4792e-01, 3.1760e-01, 3.4846e+00,\n",
       "        6.2640e-02, 3.3290e-02, 1.3365e+00, 4.5368e-01, 1.1507e-01, 9.5874e-01,\n",
       "        2.5418e+00, 1.2854e+00, 7.8709e-03, 2.4890e+00, 1.8200e-01, 4.7472e-01,\n",
       "        7.5994e-01, 2.9660e-01, 5.3197e-02, 6.9243e-01, 4.3665e-01, 1.1764e-05,\n",
       "        2.6957e-01, 5.0125e-01, 5.0213e-01, 6.6611e-01, 9.7232e-01, 2.4671e+00,\n",
       "        2.9412e-03, 2.4940e-02, 4.6306e-01, 1.0450e-02, 1.7258e-04, 1.5538e-01,\n",
       "        9.7026e-01, 3.7011e-01, 1.3151e+00, 1.3947e+00, 2.7418e+00, 9.1006e-03,\n",
       "        1.4118e+00, 9.7420e-01, 5.6412e+00, 2.1005e+00, 9.8284e-01, 2.2366e+00,\n",
       "        1.0327e+00, 3.4820e-01, 8.6582e-01, 3.3770e-01, 2.2151e-01, 5.4300e-04,\n",
       "        5.0032e+00, 4.3201e-02, 6.6696e-01, 3.3268e-03, 6.6553e-01, 9.2375e-02,\n",
       "        3.1510e-01, 1.9407e-01, 2.4164e-01, 1.1349e-01])"
      ]
     },
     "execution_count": 13,
     "metadata": {},
     "output_type": "execute_result"
    }
   ],
   "source": [
    "#HS addition: gaussian noise on each data point\n",
    "SD_Y = 1*torch.randn(train_x.size())\n",
    "SD_Y**2"
   ]
  },
  {
   "cell_type": "markdown",
   "metadata": {},
   "source": [
    "## Setting up the model\n",
    "\n",
    "The next cell demonstrates the most critical features of a user-defined Gaussian process model in GPyTorch. Building a GP model in GPyTorch is different in a number of ways.\n",
    "\n",
    "First in contrast to many existing GP packages, we do not provide full GP models for the user. Rather, we provide *the tools necessary to quickly construct one*. This is because we believe, analogous to building a neural network in standard PyTorch, it is important to have the flexibility to include whatever components are necessary. As can be seen in more complicated examples, like the [CIFAR10 Deep Kernel Learning](../08_Deep_Kernel_Learning/Deep_Kernel_Learning_DenseNet_CIFAR_Tutorial.ipynb) example which combines deep learning and Gaussian processes, this allows the user great flexibility in designing custom models.\n",
    "\n",
    "For most GP regression models, you will need to construct the following GPyTorch objects:\n",
    "\n",
    "1. A **GP Model** (`gpytorch.models.ExactGP`) -  This handles most of the inference.\n",
    "1. A **Likelihood** (`gpytorch.likelihoods.GaussianLikelihood`) - This is the most common likelihood used for GP regression.\n",
    "1. A **Mean** - This defines the prior mean of the GP.\n",
    "  - If you don't know which mean to use, a `gpytorch.means.ConstantMean()` is a good place to start.\n",
    "1. A **Kernel** - This defines the prior covariance of the GP.\n",
    "  - If you don't know which kernel to use, a `gpytorch.kernels.ScaleKernel(gpytorch.kernels.RBFKernel())` is a good place to start.\n",
    "1. A **MultivariateNormal** Distribution (`gpytorch.distributions.MultivariateNormal`) - This is the object used to represent multivariate normal distributions.\n",
    "  \n",
    "  \n",
    "### The GP Model\n",
    "  \n",
    "The components of a user built (Exact, i.e. non-variational) GP model in GPyTorch are, broadly speaking:\n",
    "\n",
    "1. An `__init__` method that takes the training data and a likelihood, and constructs whatever objects are necessary for the model's `forward` method. This will most commonly include things like a mean module and a kernel module.\n",
    "\n",
    "2. A `forward` method that takes in some $n \\times d$ data `x` and returns a `MultivariateNormal` with the *prior* mean and covariance evaluated at `x`. In other words, we return the vector $\\mu(x)$ and the $n \\times n$ matrix $K_{xx}$ representing the prior mean and covariance matrix of the GP. \n",
    "\n",
    "This specification leaves a large amount of flexibility when defining a model. For example, to compose two kernels via addition, you can either add the kernel modules directly:\n",
    "\n",
    "```python\n",
    "self.covar_module = ScaleKernel(RBFKernel() + WhiteNoiseKernel())\n",
    "```\n",
    "\n",
    "Or you can add the outputs of the kernel in the forward method:\n",
    "\n",
    "```python\n",
    "covar_x = self.rbf_kernel_module(x) + self.white_noise_module(x)\n",
    "```"
   ]
  },
  {
   "cell_type": "code",
   "execution_count": 14,
   "metadata": {},
   "outputs": [],
   "source": [
    "%reload_ext autoreload\n",
    "# We will use the simplest form of GP model, exact inference\n",
    "class ExactGPModel(gpytorch.models.ExactGP):\n",
    "    def __init__(self, train_x, train_y, likelihood):\n",
    "        super(ExactGPModel, self).__init__(train_x, train_y, likelihood)\n",
    "        self.mean_module = gpytorch.means.ConstantMean()\n",
    "        #self.covar_module = ScaleKernel(gpytorch.kernels.RBFKernel())\n",
    "        self.covar_module = ScaleKernel(RBFKernel())#\n",
    "        \n",
    "    def forward(self, x):\n",
    "        mean_x = self.mean_module(x)\n",
    "        covar_x = self.covar_module(x)\n",
    "        return gpytorch.distributions.MultivariateNormal(mean_x, covar_x)\n",
    "\n",
    "# initialize likelihood and model\n",
    "#likelihood = gpytorch.likelihoods.GaussianLikelihood()\n",
    "likelihood = gpytorch.likelihoods.FixedNoiseGaussianLikelihood(\n",
    "                noise=SD_Y**2, learn_additional_noise=False)\n",
    "model = ExactGPModel(train_x, train_y, likelihood)\n",
    "\n",
    "\n",
    "\n",
    "# noises = torch.ones(55) * 0.01\n",
    "# likelihood = FixedNoiseGaussianLikelihood(noise=noises, learn_additional_noise=True)"
   ]
  },
  {
   "cell_type": "code",
   "execution_count": 19,
   "metadata": {},
   "outputs": [
    {
     "data": {
      "text/plain": [
       "torch.Size([100])"
      ]
     },
     "execution_count": 19,
     "metadata": {},
     "output_type": "execute_result"
    }
   ],
   "source": [
    "train_x.shape"
   ]
  },
  {
   "cell_type": "markdown",
   "metadata": {},
   "source": [
    "### Model modes\n",
    "\n",
    "Like most PyTorch modules, the `ExactGP` has a `.train()` and `.eval()` mode.\n",
    "- `.train()` mode is for optimizing model hyperameters.\n",
    "- `.eval()` mode is for computing predictions through the model posterior."
   ]
  },
  {
   "cell_type": "markdown",
   "metadata": {},
   "source": [
    "## Training the model\n",
    "\n",
    "In the next cell, we handle using Type-II MLE to train the hyperparameters of the Gaussian process.\n",
    "\n",
    "The most obvious difference here compared to many other GP implementations is that, as in standard PyTorch, the core training loop is written by the user. In GPyTorch, we make use of the standard PyTorch optimizers as from `torch.optim`, and all trainable parameters of the model should be of type `torch.nn.Parameter`. Because GP models directly extend `torch.nn.Module`, calls to methods like `model.parameters()` or `model.named_parameters()` function as you might expect coming from PyTorch.\n",
    "\n",
    "In most cases, the boilerplate code below will work well. It has the same basic components as the standard PyTorch training loop:\n",
    "\n",
    "1. Zero all parameter gradients\n",
    "2. Call the model and compute the loss\n",
    "3. Call backward on the loss to fill in gradients\n",
    "4. Take a step on the optimizer\n",
    "\n",
    "However, defining custom training loops allows for greater flexibility. For example, it is easy to save the parameters at each step of training, or use different learning rates for different parameters (which may be useful in deep kernel learning for example)."
   ]
  },
  {
   "cell_type": "code",
   "execution_count": 16,
   "metadata": {
    "scrolled": false
   },
   "outputs": [
    {
     "name": "stdout",
     "output_type": "stream",
     "text": [
      "Iter 1/100 - Loss: 3.643   lengthscale: 0.693   noise: 4.582\n",
      "Iter 2/100 - Loss: 2.880   lengthscale: 0.644   noise: 4.582\n",
      "Iter 3/100 - Loss: 2.292   lengthscale: 0.599   noise: 4.582\n",
      "Iter 4/100 - Loss: 1.873   lengthscale: 0.556   noise: 4.582\n",
      "Iter 5/100 - Loss: 1.592   lengthscale: 0.518   noise: 4.582\n",
      "Iter 6/100 - Loss: 1.409   lengthscale: 0.483   noise: 4.582\n",
      "Iter 7/100 - Loss: 1.293   lengthscale: 0.453   noise: 4.582\n",
      "Iter 8/100 - Loss: 1.220   lengthscale: 0.426   noise: 4.582\n",
      "Iter 9/100 - Loss: 1.174   lengthscale: 0.402   noise: 4.582\n",
      "Iter 10/100 - Loss: 1.145   lengthscale: 0.381   noise: 4.582\n",
      "Iter 11/100 - Loss: 1.126   lengthscale: 0.363   noise: 4.582\n",
      "Iter 12/100 - Loss: 1.114   lengthscale: 0.347   noise: 4.582\n",
      "Iter 13/100 - Loss: 1.106   lengthscale: 0.333   noise: 4.582\n",
      "Iter 14/100 - Loss: 1.101   lengthscale: 0.320   noise: 4.582\n",
      "Iter 15/100 - Loss: 1.098   lengthscale: 0.309   noise: 4.582\n",
      "Iter 16/100 - Loss: 1.095   lengthscale: 0.299   noise: 4.582\n",
      "Iter 17/100 - Loss: 1.093   lengthscale: 0.291   noise: 4.582\n",
      "Iter 18/100 - Loss: 1.091   lengthscale: 0.283   noise: 4.582\n",
      "Iter 19/100 - Loss: 1.090   lengthscale: 0.276   noise: 4.582\n",
      "Iter 20/100 - Loss: 1.089   lengthscale: 0.270   noise: 4.582\n",
      "Iter 21/100 - Loss: 1.088   lengthscale: 0.264   noise: 4.582\n",
      "Iter 22/100 - Loss: 1.087   lengthscale: 0.259   noise: 4.582\n",
      "Iter 23/100 - Loss: 1.087   lengthscale: 0.255   noise: 4.582\n",
      "Iter 24/100 - Loss: 1.086   lengthscale: 0.251   noise: 4.582\n",
      "Iter 25/100 - Loss: 1.086   lengthscale: 0.247   noise: 4.582\n",
      "Iter 26/100 - Loss: 1.086   lengthscale: 0.244   noise: 4.582\n",
      "Iter 27/100 - Loss: 1.085   lengthscale: 0.240   noise: 4.582\n",
      "Iter 28/100 - Loss: 1.085   lengthscale: 0.238   noise: 4.582\n",
      "Iter 29/100 - Loss: 1.085   lengthscale: 0.235   noise: 4.582\n",
      "Iter 30/100 - Loss: 1.085   lengthscale: 0.233   noise: 4.582\n",
      "Iter 31/100 - Loss: 1.085   lengthscale: 0.231   noise: 4.582\n",
      "Iter 32/100 - Loss: 1.085   lengthscale: 0.229   noise: 4.582\n",
      "Iter 33/100 - Loss: 1.085   lengthscale: 0.227   noise: 4.582\n",
      "Iter 34/100 - Loss: 1.085   lengthscale: 0.226   noise: 4.582\n",
      "Iter 35/100 - Loss: 1.085   lengthscale: 0.224   noise: 4.582\n",
      "Iter 36/100 - Loss: 1.085   lengthscale: 0.223   noise: 4.582\n",
      "Iter 37/100 - Loss: 1.086   lengthscale: 0.222   noise: 4.582\n",
      "Iter 38/100 - Loss: 1.086   lengthscale: 0.221   noise: 4.582\n",
      "Iter 39/100 - Loss: 1.086   lengthscale: 0.220   noise: 4.582\n",
      "Iter 40/100 - Loss: 1.086   lengthscale: 0.219   noise: 4.582\n",
      "Iter 41/100 - Loss: 1.086   lengthscale: 0.219   noise: 4.582\n",
      "Iter 42/100 - Loss: 1.086   lengthscale: 0.218   noise: 4.582\n",
      "Iter 43/100 - Loss: 1.086   lengthscale: 0.217   noise: 4.582\n",
      "Iter 44/100 - Loss: 1.086   lengthscale: 0.217   noise: 4.582\n",
      "Iter 45/100 - Loss: 1.086   lengthscale: 0.216   noise: 4.582\n",
      "Iter 46/100 - Loss: 1.086   lengthscale: 0.216   noise: 4.582\n",
      "Iter 47/100 - Loss: 1.086   lengthscale: 0.216   noise: 4.582\n",
      "Iter 48/100 - Loss: 1.086   lengthscale: 0.215   noise: 4.582\n",
      "Iter 49/100 - Loss: 1.086   lengthscale: 0.215   noise: 4.582\n",
      "Iter 50/100 - Loss: 1.086   lengthscale: 0.215   noise: 4.582\n",
      "Iter 51/100 - Loss: 1.086   lengthscale: 0.215   noise: 4.582\n",
      "Iter 52/100 - Loss: 1.086   lengthscale: 0.215   noise: 4.582\n",
      "Iter 53/100 - Loss: 1.086   lengthscale: 0.214   noise: 4.582\n",
      "Iter 54/100 - Loss: 1.086   lengthscale: 0.214   noise: 4.582\n",
      "Iter 55/100 - Loss: 1.086   lengthscale: 0.214   noise: 4.582\n",
      "Iter 56/100 - Loss: 1.086   lengthscale: 0.214   noise: 4.582\n",
      "Iter 57/100 - Loss: 1.086   lengthscale: 0.214   noise: 4.582\n",
      "Iter 58/100 - Loss: 1.086   lengthscale: 0.214   noise: 4.582\n",
      "Iter 59/100 - Loss: 1.086   lengthscale: 0.214   noise: 4.582\n",
      "Iter 60/100 - Loss: 1.086   lengthscale: 0.214   noise: 4.582\n",
      "Iter 61/100 - Loss: 1.086   lengthscale: 0.214   noise: 4.582\n",
      "Iter 62/100 - Loss: 1.086   lengthscale: 0.214   noise: 4.582\n",
      "Iter 63/100 - Loss: 1.086   lengthscale: 0.214   noise: 4.582\n",
      "Iter 64/100 - Loss: 1.086   lengthscale: 0.214   noise: 4.582\n",
      "Iter 65/100 - Loss: 1.086   lengthscale: 0.214   noise: 4.582\n",
      "Iter 66/100 - Loss: 1.086   lengthscale: 0.214   noise: 4.582\n",
      "Iter 67/100 - Loss: 1.086   lengthscale: 0.215   noise: 4.582\n",
      "Iter 68/100 - Loss: 1.086   lengthscale: 0.215   noise: 4.582\n",
      "Iter 69/100 - Loss: 1.086   lengthscale: 0.215   noise: 4.582\n",
      "Iter 70/100 - Loss: 1.085   lengthscale: 0.215   noise: 4.582\n",
      "Iter 71/100 - Loss: 1.085   lengthscale: 0.215   noise: 4.582\n",
      "Iter 72/100 - Loss: 1.085   lengthscale: 0.215   noise: 4.582\n",
      "Iter 73/100 - Loss: 1.085   lengthscale: 0.215   noise: 4.582\n",
      "Iter 74/100 - Loss: 1.085   lengthscale: 0.215   noise: 4.582\n",
      "Iter 75/100 - Loss: 1.085   lengthscale: 0.215   noise: 4.582\n",
      "Iter 76/100 - Loss: 1.085   lengthscale: 0.216   noise: 4.582\n",
      "Iter 77/100 - Loss: 1.085   lengthscale: 0.216   noise: 4.582\n",
      "Iter 78/100 - Loss: 1.085   lengthscale: 0.216   noise: 4.582\n",
      "Iter 79/100 - Loss: 1.085   lengthscale: 0.216   noise: 4.582\n",
      "Iter 80/100 - Loss: 1.085   lengthscale: 0.216   noise: 4.582\n",
      "Iter 81/100 - Loss: 1.085   lengthscale: 0.216   noise: 4.582\n",
      "Iter 82/100 - Loss: 1.085   lengthscale: 0.216   noise: 4.582\n",
      "Iter 83/100 - Loss: 1.085   lengthscale: 0.216   noise: 4.582\n",
      "Iter 84/100 - Loss: 1.085   lengthscale: 0.217   noise: 4.582\n",
      "Iter 85/100 - Loss: 1.085   lengthscale: 0.217   noise: 4.582\n",
      "Iter 86/100 - Loss: 1.085   lengthscale: 0.217   noise: 4.582\n",
      "Iter 87/100 - Loss: 1.085   lengthscale: 0.217   noise: 4.582\n",
      "Iter 88/100 - Loss: 1.085   lengthscale: 0.217   noise: 4.582\n",
      "Iter 89/100 - Loss: 1.085   lengthscale: 0.217   noise: 4.582\n",
      "Iter 90/100 - Loss: 1.085   lengthscale: 0.217   noise: 4.582\n",
      "Iter 91/100 - Loss: 1.085   lengthscale: 0.218   noise: 4.582\n",
      "Iter 92/100 - Loss: 1.085   lengthscale: 0.218   noise: 4.582\n",
      "Iter 93/100 - Loss: 1.085   lengthscale: 0.218   noise: 4.582\n",
      "Iter 94/100 - Loss: 1.085   lengthscale: 0.218   noise: 4.582\n",
      "Iter 95/100 - Loss: 1.085   lengthscale: 0.218   noise: 4.582\n",
      "Iter 96/100 - Loss: 1.085   lengthscale: 0.218   noise: 4.582\n",
      "Iter 97/100 - Loss: 1.085   lengthscale: 0.218   noise: 4.582\n",
      "Iter 98/100 - Loss: 1.085   lengthscale: 0.218   noise: 4.582\n",
      "Iter 99/100 - Loss: 1.085   lengthscale: 0.219   noise: 4.582\n",
      "Iter 100/100 - Loss: 1.084   lengthscale: 0.219   noise: 4.582\n"
     ]
    }
   ],
   "source": [
    "# Find optimal model hyperparameters\n",
    "model.train()\n",
    "likelihood.train()\n",
    "\n",
    "# Use the adam optimizer\n",
    "optimizer = torch.optim.Adam([\n",
    "    {'params': model.parameters()},  # Includes GaussianLikelihood parameters\n",
    "], lr=0.1)\n",
    "\n",
    "# \"Loss\" for GPs - the marginal log likelihood\n",
    "mll = gpytorch.mlls.ExactMarginalLogLikelihood(likelihood, model)\n",
    "\n",
    "training_iter = 100\n",
    "for i in range(training_iter):\n",
    "    # Zero gradients from previous iteration\n",
    "    optimizer.zero_grad()\n",
    "    # Output from model\n",
    "    output = model(train_x)\n",
    "    # Calc loss and backprop gradients\n",
    "    loss = -mll(output, train_y)\n",
    "    loss.backward()\n",
    "    print('Iter %d/%d - Loss: %.3f   lengthscale: %.3f   noise: %.3f' % (\n",
    "        i + 1, training_iter, loss.item(),\n",
    "        model.covar_module.base_kernel.lengthscale.item(),\n",
    "        model.likelihood.noise[0].item()\n",
    "    ))\n",
    "    optimizer.step()"
   ]
  },
  {
   "cell_type": "markdown",
   "metadata": {},
   "source": [
    "## Make predictions with the model\n",
    "\n",
    "In the next cell, we make predictions with the model. To do this, we simply put the model and likelihood in eval mode, and call both modules on the test data.\n",
    "\n",
    "Just as a user defined GP model returns a `MultivariateNormal` containing the prior mean and covariance from forward, a trained GP model in eval mode returns a `MultivariateNormal` containing the posterior mean and covariance. Thus, getting the predictive mean and variance, and then sampling functions from the GP at the given test points could be accomplished with calls like:\n",
    "\n",
    "```python\n",
    "f_preds = model(test_x)\n",
    "y_preds = likelihood(model(test_x))\n",
    "\n",
    "f_mean = f_preds.mean\n",
    "f_var = f_preds.variance\n",
    "f_covar = f_preds.covariance_matrix\n",
    "f_samples = f_preds.sample(sample_shape=torch.Size(1000,))\n",
    "```\n",
    "\n",
    "The `gpytorch.settings.fast_pred_var` context is not needed, but here we are giving a preview of using one of our cool features, getting faster predictive distributions using [LOVE](https://arxiv.org/abs/1803.06058)."
   ]
  },
  {
   "cell_type": "code",
   "execution_count": 17,
   "metadata": {},
   "outputs": [
    {
     "name": "stderr",
     "output_type": "stream",
     "text": [
      "/home/hamish/anaconda3/lib/python3.6/site-packages/gpytorch/likelihoods/gaussian_likelihood.py:188: UserWarning: You have passed data through a FixedNoiseGaussianLikelihood that did not match the size of the fixed noise, *and* you did not specify noise. This is treated as a no-op.\n",
      "  \"You have passed data through a FixedNoiseGaussianLikelihood that did not match the size \"\n"
     ]
    }
   ],
   "source": [
    "# Get into evaluation (predictive posterior) mode\n",
    "model.eval()\n",
    "likelihood.eval()\n",
    "\n",
    "# Test points are regularly spaced along [0,1]\n",
    "# Make predictions by feeding model through likelihood\n",
    "with torch.no_grad(), gpytorch.settings.fast_pred_var():\n",
    "    test_x = torch.linspace(0, 1, 51)\n",
    "    f_preds = model(test_x)\n",
    "    observed_pred = likelihood(model(test_x))"
   ]
  },
  {
   "cell_type": "markdown",
   "metadata": {},
   "source": [
    "## Plot the model fit\n",
    "\n",
    "In the next cell, we plot the mean and confidence region of the Gaussian process model. The `confidence_region` method is a helper method that returns 2 standard deviations above and below the mean."
   ]
  },
  {
   "cell_type": "code",
   "execution_count": 18,
   "metadata": {
    "scrolled": false
   },
   "outputs": [
    {
     "data": {
      "image/png": "[encoded data removed]",
      "text/plain": [
       "<Figure size 864x648 with 1 Axes>"
      ]
     },
     "metadata": {},
     "output_type": "display_data"
    }
   ],
   "source": [
    "with torch.no_grad():\n",
    "    # Initialize plot\n",
    "    f, ax = plt.subplots(1, 1, figsize=(12, 9))\n",
    "\n",
    "    # Get upper and lower confidence bounds\n",
    "    lower, upper = observed_pred.confidence_region()\n",
    "    # Plot training data as black stars\n",
    "    ax.plot(train_x.numpy(), train_y.numpy(), 'k*')\n",
    "    ax.errorbar(train_x.numpy(), train_y.numpy(), yerr = SD_Y.numpy(), fmt='o')\n",
    "    \n",
    "    ax.plot(test_x.numpy(), f_preds.mean.numpy(), 'm', lw=4)\n",
    "    \n",
    "    # Plot predictive means as blue line\n",
    "    ax.plot(test_x.numpy(), observed_pred.mean.numpy(), 'b')\n",
    "    # Shade between the lower and upper confidence bounds\n",
    "    ax.fill_between(test_x.numpy(), lower.numpy(), upper.numpy(), alpha=0.5)\n",
    "    ax.set_ylim([-3, 3])\n",
    "    ax.legend(['Observed Data', 'Mean', 'Confidence'])"
   ]
  },
  {
   "cell_type": "markdown",
   "metadata": {},
   "source": [
    "## HS: General PyTorch notes"
   ]
  },
  {
   "cell_type": "markdown",
   "metadata": {},
   "source": [
    "These are some notes about working with PyTorch when coming from a NumPy background. These are not guaranteed to be complete or even correct. \n",
    "\n",
    "Instead of using numpy arrays we use torch tensors. To convert from torch tensors to numpy arrays simply append $\\texttt{.numpy()}$, eg"
   ]
  },
  {
   "cell_type": "code",
   "execution_count": null,
   "metadata": {},
   "outputs": [],
   "source": [
    "SD_Y.numpy()"
   ]
  },
  {
   "cell_type": "code",
   "execution_count": null,
   "metadata": {
    "collapsed": true
   },
   "outputs": [],
   "source": []
  }
 ],
 "metadata": {
  "anaconda-cloud": {},
  "kernelspec": {
   "display_name": "Python 3",
   "language": "python",
   "name": "python3"
  },
  "language_info": {
   "codemirror_mode": {
    "name": "ipython",
    "version": 3
   },
   "file_extension": ".py",
   "mimetype": "text/x-python",
   "name": "python",
   "nbconvert_exporter": "python",
   "pygments_lexer": "ipython3",
   "version": "3.6.8"
  }
 },
 "nbformat": 4,
 "nbformat_minor": 1
}
